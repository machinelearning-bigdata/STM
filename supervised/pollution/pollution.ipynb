{
 "cells": [
  {
   "cell_type": "markdown",
   "metadata": {},
   "source": [
    "# Pollution"
   ]
  },
  {
   "cell_type": "markdown",
   "metadata": {},
   "source": [
    "## Data import"
   ]
  },
  {
   "cell_type": "code",
   "execution_count": 1,
   "metadata": {},
   "outputs": [],
   "source": [
    "import pandas as pd\n",
    "import numpy as np\n",
    "\n",
    "%matplotlib inline\n",
    "import seaborn as sns\n",
    "import matplotlib.pyplot as plt\n",
    "\n",
    "df = pd.read_csv('model_pollution.csv')\n"
   ]
  },
  {
   "cell_type": "code",
   "execution_count": 2,
   "metadata": {},
   "outputs": [
    {
     "data": {
      "text/html": [
       "<div>\n",
       "<style scoped>\n",
       "    .dataframe tbody tr th:only-of-type {\n",
       "        vertical-align: middle;\n",
       "    }\n",
       "\n",
       "    .dataframe tbody tr th {\n",
       "        vertical-align: top;\n",
       "    }\n",
       "\n",
       "    .dataframe thead th {\n",
       "        text-align: right;\n",
       "    }\n",
       "</style>\n",
       "<table border=\"1\" class=\"dataframe\">\n",
       "  <thead>\n",
       "    <tr style=\"text-align: right;\">\n",
       "      <th></th>\n",
       "      <th>hour</th>\n",
       "      <th>small_part</th>\n",
       "      <th>med_part</th>\n",
       "      <th>sulf_diox</th>\n",
       "      <th>nitr_diox</th>\n",
       "      <th>trioxygen</th>\n",
       "      <th>temp</th>\n",
       "      <th>pres</th>\n",
       "      <th>rain</th>\n",
       "      <th>wind</th>\n",
       "      <th>wind_sp</th>\n",
       "      <th>date</th>\n",
       "      <th>carb_monox</th>\n",
       "    </tr>\n",
       "  </thead>\n",
       "  <tbody>\n",
       "    <tr>\n",
       "      <th>0</th>\n",
       "      <td>23</td>\n",
       "      <td>13.0</td>\n",
       "      <td>43.0</td>\n",
       "      <td>1.0</td>\n",
       "      <td>19.0</td>\n",
       "      <td>29.0</td>\n",
       "      <td>7.6</td>\n",
       "      <td>1021.3</td>\n",
       "      <td>0.0</td>\n",
       "      <td>NNW</td>\n",
       "      <td>2.5</td>\n",
       "      <td>23-Oct-2014</td>\n",
       "      <td>200.0</td>\n",
       "    </tr>\n",
       "    <tr>\n",
       "      <th>1</th>\n",
       "      <td>21</td>\n",
       "      <td>77.0</td>\n",
       "      <td>115.0</td>\n",
       "      <td>31.0</td>\n",
       "      <td>74.0</td>\n",
       "      <td>10.0</td>\n",
       "      <td>0.0</td>\n",
       "      <td>1015.0</td>\n",
       "      <td>0.0</td>\n",
       "      <td>W</td>\n",
       "      <td>0.7</td>\n",
       "      <td>9-Jan-2016</td>\n",
       "      <td>2100.0</td>\n",
       "    </tr>\n",
       "    <tr>\n",
       "      <th>2</th>\n",
       "      <td>21</td>\n",
       "      <td>86.0</td>\n",
       "      <td>141.0</td>\n",
       "      <td>9.0</td>\n",
       "      <td>43.0</td>\n",
       "      <td>198.0</td>\n",
       "      <td>29.3</td>\n",
       "      <td>1000.9</td>\n",
       "      <td>0.0</td>\n",
       "      <td>SSE</td>\n",
       "      <td>0.4</td>\n",
       "      <td>11-Jul-2016</td>\n",
       "      <td>700.0</td>\n",
       "    </tr>\n",
       "  </tbody>\n",
       "</table>\n",
       "</div>"
      ],
      "text/plain": [
       "   hour  small_part  med_part  sulf_diox  nitr_diox  trioxygen  temp    pres  \\\n",
       "0    23        13.0      43.0        1.0       19.0       29.0   7.6  1021.3   \n",
       "1    21        77.0     115.0       31.0       74.0       10.0   0.0  1015.0   \n",
       "2    21        86.0     141.0        9.0       43.0      198.0  29.3  1000.9   \n",
       "\n",
       "   rain wind  wind_sp         date  carb_monox  \n",
       "0   0.0  NNW      2.5  23-Oct-2014       200.0  \n",
       "1   0.0    W      0.7   9-Jan-2016      2100.0  \n",
       "2   0.0  SSE      0.4  11-Jul-2016       700.0  "
      ]
     },
     "execution_count": 2,
     "metadata": {},
     "output_type": "execute_result"
    }
   ],
   "source": [
    "df.head(3)"
   ]
  },
  {
   "cell_type": "code",
   "execution_count": 3,
   "metadata": {},
   "outputs": [
    {
     "data": {
      "text/plain": [
       "hour            0\n",
       "small_part    332\n",
       "med_part      251\n",
       "sulf_diox     309\n",
       "nitr_diox     338\n",
       "trioxygen     437\n",
       "temp           15\n",
       "pres           14\n",
       "rain           15\n",
       "wind           45\n",
       "wind_sp        11\n",
       "date            0\n",
       "carb_monox      0\n",
       "dtype: int64"
      ]
     },
     "execution_count": 3,
     "metadata": {},
     "output_type": "execute_result"
    }
   ],
   "source": [
    "df.isnull().sum()"
   ]
  },
  {
   "cell_type": "markdown",
   "metadata": {},
   "source": [
    "## Split categorical/continuos variables"
   ]
  },
  {
   "cell_type": "code",
   "execution_count": 4,
   "metadata": {},
   "outputs": [
    {
     "data": {
      "text/plain": [
       "Index(['hour', 'small_part', 'med_part', 'sulf_diox', 'nitr_diox', 'trioxygen',\n",
       "       'temp', 'pres', 'rain', 'wind', 'wind_sp', 'date', 'carb_monox'],\n",
       "      dtype='object')"
      ]
     },
     "execution_count": 4,
     "metadata": {},
     "output_type": "execute_result"
    }
   ],
   "source": [
    "df.columns"
   ]
  },
  {
   "cell_type": "code",
   "execution_count": 5,
   "metadata": {},
   "outputs": [
    {
     "data": {
      "text/plain": [
       "hour            int64\n",
       "small_part    float64\n",
       "med_part      float64\n",
       "sulf_diox     float64\n",
       "nitr_diox     float64\n",
       "trioxygen     float64\n",
       "temp          float64\n",
       "pres          float64\n",
       "rain          float64\n",
       "wind           object\n",
       "wind_sp       float64\n",
       "date           object\n",
       "carb_monox    float64\n",
       "dtype: object"
      ]
     },
     "execution_count": 5,
     "metadata": {},
     "output_type": "execute_result"
    }
   ],
   "source": [
    "df.dtypes"
   ]
  },
  {
   "cell_type": "code",
   "execution_count": 6,
   "metadata": {},
   "outputs": [
    {
     "data": {
      "text/plain": [
       "hour          False\n",
       "small_part     True\n",
       "med_part       True\n",
       "sulf_diox      True\n",
       "nitr_diox      True\n",
       "trioxygen      True\n",
       "temp           True\n",
       "pres           True\n",
       "rain           True\n",
       "wind           True\n",
       "wind_sp        True\n",
       "date          False\n",
       "carb_monox    False\n",
       "dtype: bool"
      ]
     },
     "execution_count": 6,
     "metadata": {},
     "output_type": "execute_result"
    }
   ],
   "source": [
    "df.isna().any()"
   ]
  },
  {
   "cell_type": "code",
   "execution_count": 7,
   "metadata": {},
   "outputs": [],
   "source": [
    "df.fillna(df.mean(),inplace=True)"
   ]
  },
  {
   "cell_type": "code",
   "execution_count": 8,
   "metadata": {},
   "outputs": [],
   "source": [
    "df[['day','month','year']]=df['date'].str.split('-', expand=True)"
   ]
  },
  {
   "cell_type": "code",
   "execution_count": 9,
   "metadata": {},
   "outputs": [
    {
     "data": {
      "text/html": [
       "<div>\n",
       "<style scoped>\n",
       "    .dataframe tbody tr th:only-of-type {\n",
       "        vertical-align: middle;\n",
       "    }\n",
       "\n",
       "    .dataframe tbody tr th {\n",
       "        vertical-align: top;\n",
       "    }\n",
       "\n",
       "    .dataframe thead th {\n",
       "        text-align: right;\n",
       "    }\n",
       "</style>\n",
       "<table border=\"1\" class=\"dataframe\">\n",
       "  <thead>\n",
       "    <tr style=\"text-align: right;\">\n",
       "      <th></th>\n",
       "      <th>hour</th>\n",
       "      <th>small_part</th>\n",
       "      <th>med_part</th>\n",
       "      <th>sulf_diox</th>\n",
       "      <th>nitr_diox</th>\n",
       "      <th>trioxygen</th>\n",
       "      <th>temp</th>\n",
       "      <th>pres</th>\n",
       "      <th>rain</th>\n",
       "      <th>wind</th>\n",
       "      <th>wind_sp</th>\n",
       "      <th>date</th>\n",
       "      <th>carb_monox</th>\n",
       "      <th>day</th>\n",
       "      <th>month</th>\n",
       "      <th>year</th>\n",
       "    </tr>\n",
       "  </thead>\n",
       "  <tbody>\n",
       "    <tr>\n",
       "      <th>0</th>\n",
       "      <td>23</td>\n",
       "      <td>13.000000</td>\n",
       "      <td>43.000000</td>\n",
       "      <td>1.000000</td>\n",
       "      <td>19.000000</td>\n",
       "      <td>29.0</td>\n",
       "      <td>7.6</td>\n",
       "      <td>1021.3</td>\n",
       "      <td>0.0</td>\n",
       "      <td>NNW</td>\n",
       "      <td>2.5</td>\n",
       "      <td>23-Oct-2014</td>\n",
       "      <td>200.000</td>\n",
       "      <td>23</td>\n",
       "      <td>Oct</td>\n",
       "      <td>2014</td>\n",
       "    </tr>\n",
       "    <tr>\n",
       "      <th>1</th>\n",
       "      <td>21</td>\n",
       "      <td>77.000000</td>\n",
       "      <td>115.000000</td>\n",
       "      <td>31.000000</td>\n",
       "      <td>74.000000</td>\n",
       "      <td>10.0</td>\n",
       "      <td>0.0</td>\n",
       "      <td>1015.0</td>\n",
       "      <td>0.0</td>\n",
       "      <td>W</td>\n",
       "      <td>0.7</td>\n",
       "      <td>9-Jan-2016</td>\n",
       "      <td>2100.000</td>\n",
       "      <td>9</td>\n",
       "      <td>Jan</td>\n",
       "      <td>2016</td>\n",
       "    </tr>\n",
       "    <tr>\n",
       "      <th>2</th>\n",
       "      <td>21</td>\n",
       "      <td>86.000000</td>\n",
       "      <td>141.000000</td>\n",
       "      <td>9.000000</td>\n",
       "      <td>43.000000</td>\n",
       "      <td>198.0</td>\n",
       "      <td>29.3</td>\n",
       "      <td>1000.9</td>\n",
       "      <td>0.0</td>\n",
       "      <td>SSE</td>\n",
       "      <td>0.4</td>\n",
       "      <td>11-Jul-2016</td>\n",
       "      <td>700.000</td>\n",
       "      <td>11</td>\n",
       "      <td>Jul</td>\n",
       "      <td>2016</td>\n",
       "    </tr>\n",
       "    <tr>\n",
       "      <th>3</th>\n",
       "      <td>11</td>\n",
       "      <td>78.745237</td>\n",
       "      <td>103.551407</td>\n",
       "      <td>16.060271</td>\n",
       "      <td>52.454812</td>\n",
       "      <td>20.0</td>\n",
       "      <td>14.2</td>\n",
       "      <td>1015.2</td>\n",
       "      <td>0.0</td>\n",
       "      <td>ESE</td>\n",
       "      <td>1.9</td>\n",
       "      <td>29-Oct-2015</td>\n",
       "      <td>1222.923</td>\n",
       "      <td>29</td>\n",
       "      <td>Oct</td>\n",
       "      <td>2015</td>\n",
       "    </tr>\n",
       "    <tr>\n",
       "      <th>4</th>\n",
       "      <td>0</td>\n",
       "      <td>77.000000</td>\n",
       "      <td>57.000000</td>\n",
       "      <td>41.000000</td>\n",
       "      <td>48.000000</td>\n",
       "      <td>16.0</td>\n",
       "      <td>-1.0</td>\n",
       "      <td>1024.2</td>\n",
       "      <td>0.0</td>\n",
       "      <td>SSW</td>\n",
       "      <td>1.3</td>\n",
       "      <td>7-Feb-2015</td>\n",
       "      <td>1300.000</td>\n",
       "      <td>7</td>\n",
       "      <td>Feb</td>\n",
       "      <td>2015</td>\n",
       "    </tr>\n",
       "  </tbody>\n",
       "</table>\n",
       "</div>"
      ],
      "text/plain": [
       "   hour  small_part    med_part  sulf_diox  nitr_diox  trioxygen  temp  \\\n",
       "0    23   13.000000   43.000000   1.000000  19.000000       29.0   7.6   \n",
       "1    21   77.000000  115.000000  31.000000  74.000000       10.0   0.0   \n",
       "2    21   86.000000  141.000000   9.000000  43.000000      198.0  29.3   \n",
       "3    11   78.745237  103.551407  16.060271  52.454812       20.0  14.2   \n",
       "4     0   77.000000   57.000000  41.000000  48.000000       16.0  -1.0   \n",
       "\n",
       "     pres  rain wind  wind_sp         date  carb_monox day month  year  \n",
       "0  1021.3   0.0  NNW      2.5  23-Oct-2014     200.000  23   Oct  2014  \n",
       "1  1015.0   0.0    W      0.7   9-Jan-2016    2100.000   9   Jan  2016  \n",
       "2  1000.9   0.0  SSE      0.4  11-Jul-2016     700.000  11   Jul  2016  \n",
       "3  1015.2   0.0  ESE      1.9  29-Oct-2015    1222.923  29   Oct  2015  \n",
       "4  1024.2   0.0  SSW      1.3   7-Feb-2015    1300.000   7   Feb  2015  "
      ]
     },
     "execution_count": 9,
     "metadata": {},
     "output_type": "execute_result"
    }
   ],
   "source": [
    "df.head()"
   ]
  },
  {
   "cell_type": "code",
   "execution_count": 10,
   "metadata": {},
   "outputs": [
    {
     "data": {
      "text/plain": [
       "hour            int64\n",
       "small_part    float64\n",
       "med_part      float64\n",
       "sulf_diox     float64\n",
       "nitr_diox     float64\n",
       "trioxygen     float64\n",
       "temp          float64\n",
       "pres          float64\n",
       "rain          float64\n",
       "wind           object\n",
       "wind_sp       float64\n",
       "date           object\n",
       "carb_monox    float64\n",
       "day            object\n",
       "month          object\n",
       "year           object\n",
       "dtype: object"
      ]
     },
     "execution_count": 10,
     "metadata": {},
     "output_type": "execute_result"
    }
   ],
   "source": [
    "df.dtypes"
   ]
  },
  {
   "cell_type": "code",
   "execution_count": 11,
   "metadata": {},
   "outputs": [],
   "source": [
    "df.drop(['date'],axis=1,inplace=True)"
   ]
  },
  {
   "cell_type": "code",
   "execution_count": 12,
   "metadata": {},
   "outputs": [],
   "source": [
    "df['day']=pd.to_numeric(df['day'])"
   ]
  },
  {
   "cell_type": "code",
   "execution_count": 13,
   "metadata": {},
   "outputs": [],
   "source": [
    "df['year']=pd.to_numeric(df['year'])"
   ]
  },
  {
   "cell_type": "code",
   "execution_count": 14,
   "metadata": {},
   "outputs": [
    {
     "data": {
      "text/html": [
       "<div>\n",
       "<style scoped>\n",
       "    .dataframe tbody tr th:only-of-type {\n",
       "        vertical-align: middle;\n",
       "    }\n",
       "\n",
       "    .dataframe tbody tr th {\n",
       "        vertical-align: top;\n",
       "    }\n",
       "\n",
       "    .dataframe thead th {\n",
       "        text-align: right;\n",
       "    }\n",
       "</style>\n",
       "<table border=\"1\" class=\"dataframe\">\n",
       "  <thead>\n",
       "    <tr style=\"text-align: right;\">\n",
       "      <th></th>\n",
       "      <th>wind</th>\n",
       "      <th>month</th>\n",
       "    </tr>\n",
       "  </thead>\n",
       "  <tbody>\n",
       "    <tr>\n",
       "      <th>0</th>\n",
       "      <td>NNW</td>\n",
       "      <td>Oct</td>\n",
       "    </tr>\n",
       "    <tr>\n",
       "      <th>1</th>\n",
       "      <td>W</td>\n",
       "      <td>Jan</td>\n",
       "    </tr>\n",
       "    <tr>\n",
       "      <th>2</th>\n",
       "      <td>SSE</td>\n",
       "      <td>Jul</td>\n",
       "    </tr>\n",
       "    <tr>\n",
       "      <th>3</th>\n",
       "      <td>ESE</td>\n",
       "      <td>Oct</td>\n",
       "    </tr>\n",
       "    <tr>\n",
       "      <th>4</th>\n",
       "      <td>SSW</td>\n",
       "      <td>Feb</td>\n",
       "    </tr>\n",
       "  </tbody>\n",
       "</table>\n",
       "</div>"
      ],
      "text/plain": [
       "  wind month\n",
       "0  NNW   Oct\n",
       "1    W   Jan\n",
       "2  SSE   Jul\n",
       "3  ESE   Oct\n",
       "4  SSW   Feb"
      ]
     },
     "execution_count": 14,
     "metadata": {},
     "output_type": "execute_result"
    }
   ],
   "source": [
    "df_categorical=df.select_dtypes(include=['object'])\n",
    "#df_categorical=df[[]]\n",
    "df_categorical.head()"
   ]
  },
  {
   "cell_type": "code",
   "execution_count": 15,
   "metadata": {},
   "outputs": [
    {
     "data": {
      "text/html": [
       "<div>\n",
       "<style scoped>\n",
       "    .dataframe tbody tr th:only-of-type {\n",
       "        vertical-align: middle;\n",
       "    }\n",
       "\n",
       "    .dataframe tbody tr th {\n",
       "        vertical-align: top;\n",
       "    }\n",
       "\n",
       "    .dataframe thead th {\n",
       "        text-align: right;\n",
       "    }\n",
       "</style>\n",
       "<table border=\"1\" class=\"dataframe\">\n",
       "  <thead>\n",
       "    <tr style=\"text-align: right;\">\n",
       "      <th></th>\n",
       "      <th>hour</th>\n",
       "      <th>small_part</th>\n",
       "      <th>med_part</th>\n",
       "      <th>sulf_diox</th>\n",
       "      <th>nitr_diox</th>\n",
       "      <th>trioxygen</th>\n",
       "      <th>temp</th>\n",
       "      <th>pres</th>\n",
       "      <th>rain</th>\n",
       "      <th>wind_sp</th>\n",
       "      <th>carb_monox</th>\n",
       "      <th>day</th>\n",
       "      <th>year</th>\n",
       "    </tr>\n",
       "  </thead>\n",
       "  <tbody>\n",
       "    <tr>\n",
       "      <th>0</th>\n",
       "      <td>23</td>\n",
       "      <td>13.000000</td>\n",
       "      <td>43.000000</td>\n",
       "      <td>1.000000</td>\n",
       "      <td>19.000000</td>\n",
       "      <td>29.0</td>\n",
       "      <td>7.6</td>\n",
       "      <td>1021.3</td>\n",
       "      <td>0.0</td>\n",
       "      <td>2.5</td>\n",
       "      <td>200.000</td>\n",
       "      <td>23</td>\n",
       "      <td>2014</td>\n",
       "    </tr>\n",
       "    <tr>\n",
       "      <th>1</th>\n",
       "      <td>21</td>\n",
       "      <td>77.000000</td>\n",
       "      <td>115.000000</td>\n",
       "      <td>31.000000</td>\n",
       "      <td>74.000000</td>\n",
       "      <td>10.0</td>\n",
       "      <td>0.0</td>\n",
       "      <td>1015.0</td>\n",
       "      <td>0.0</td>\n",
       "      <td>0.7</td>\n",
       "      <td>2100.000</td>\n",
       "      <td>9</td>\n",
       "      <td>2016</td>\n",
       "    </tr>\n",
       "    <tr>\n",
       "      <th>2</th>\n",
       "      <td>21</td>\n",
       "      <td>86.000000</td>\n",
       "      <td>141.000000</td>\n",
       "      <td>9.000000</td>\n",
       "      <td>43.000000</td>\n",
       "      <td>198.0</td>\n",
       "      <td>29.3</td>\n",
       "      <td>1000.9</td>\n",
       "      <td>0.0</td>\n",
       "      <td>0.4</td>\n",
       "      <td>700.000</td>\n",
       "      <td>11</td>\n",
       "      <td>2016</td>\n",
       "    </tr>\n",
       "    <tr>\n",
       "      <th>3</th>\n",
       "      <td>11</td>\n",
       "      <td>78.745237</td>\n",
       "      <td>103.551407</td>\n",
       "      <td>16.060271</td>\n",
       "      <td>52.454812</td>\n",
       "      <td>20.0</td>\n",
       "      <td>14.2</td>\n",
       "      <td>1015.2</td>\n",
       "      <td>0.0</td>\n",
       "      <td>1.9</td>\n",
       "      <td>1222.923</td>\n",
       "      <td>29</td>\n",
       "      <td>2015</td>\n",
       "    </tr>\n",
       "    <tr>\n",
       "      <th>4</th>\n",
       "      <td>0</td>\n",
       "      <td>77.000000</td>\n",
       "      <td>57.000000</td>\n",
       "      <td>41.000000</td>\n",
       "      <td>48.000000</td>\n",
       "      <td>16.0</td>\n",
       "      <td>-1.0</td>\n",
       "      <td>1024.2</td>\n",
       "      <td>0.0</td>\n",
       "      <td>1.3</td>\n",
       "      <td>1300.000</td>\n",
       "      <td>7</td>\n",
       "      <td>2015</td>\n",
       "    </tr>\n",
       "  </tbody>\n",
       "</table>\n",
       "</div>"
      ],
      "text/plain": [
       "   hour  small_part    med_part  sulf_diox  nitr_diox  trioxygen  temp  \\\n",
       "0    23   13.000000   43.000000   1.000000  19.000000       29.0   7.6   \n",
       "1    21   77.000000  115.000000  31.000000  74.000000       10.0   0.0   \n",
       "2    21   86.000000  141.000000   9.000000  43.000000      198.0  29.3   \n",
       "3    11   78.745237  103.551407  16.060271  52.454812       20.0  14.2   \n",
       "4     0   77.000000   57.000000  41.000000  48.000000       16.0  -1.0   \n",
       "\n",
       "     pres  rain  wind_sp  carb_monox  day  year  \n",
       "0  1021.3   0.0      2.5     200.000   23  2014  \n",
       "1  1015.0   0.0      0.7    2100.000    9  2016  \n",
       "2  1000.9   0.0      0.4     700.000   11  2016  \n",
       "3  1015.2   0.0      1.9    1222.923   29  2015  \n",
       "4  1024.2   0.0      1.3    1300.000    7  2015  "
      ]
     },
     "execution_count": 15,
     "metadata": {},
     "output_type": "execute_result"
    }
   ],
   "source": [
    "df_numerical=df.select_dtypes(include=['int64','float64'])\n",
    "#df_numerical=df[[ ]]\n",
    "df_numerical.head()"
   ]
  },
  {
   "cell_type": "markdown",
   "metadata": {},
   "source": [
    "## Categorical data"
   ]
  },
  {
   "cell_type": "code",
   "execution_count": 16,
   "metadata": {},
   "outputs": [
    {
     "data": {
      "text/html": [
       "<div>\n",
       "<style scoped>\n",
       "    .dataframe tbody tr th:only-of-type {\n",
       "        vertical-align: middle;\n",
       "    }\n",
       "\n",
       "    .dataframe tbody tr th {\n",
       "        vertical-align: top;\n",
       "    }\n",
       "\n",
       "    .dataframe thead th {\n",
       "        text-align: right;\n",
       "    }\n",
       "</style>\n",
       "<table border=\"1\" class=\"dataframe\">\n",
       "  <thead>\n",
       "    <tr style=\"text-align: right;\">\n",
       "      <th></th>\n",
       "      <th>wind_ENE</th>\n",
       "      <th>wind_ESE</th>\n",
       "      <th>wind_N</th>\n",
       "      <th>wind_NE</th>\n",
       "      <th>wind_NNE</th>\n",
       "      <th>wind_NNW</th>\n",
       "      <th>wind_NW</th>\n",
       "      <th>wind_S</th>\n",
       "      <th>wind_SE</th>\n",
       "      <th>wind_SSE</th>\n",
       "      <th>...</th>\n",
       "      <th>month_Dec</th>\n",
       "      <th>month_Feb</th>\n",
       "      <th>month_Jan</th>\n",
       "      <th>month_Jul</th>\n",
       "      <th>month_Jun</th>\n",
       "      <th>month_Mar</th>\n",
       "      <th>month_May</th>\n",
       "      <th>month_Nov</th>\n",
       "      <th>month_Oct</th>\n",
       "      <th>month_Sep</th>\n",
       "    </tr>\n",
       "  </thead>\n",
       "  <tbody>\n",
       "    <tr>\n",
       "      <th>13995</th>\n",
       "      <td>0</td>\n",
       "      <td>0</td>\n",
       "      <td>0</td>\n",
       "      <td>0</td>\n",
       "      <td>0</td>\n",
       "      <td>0</td>\n",
       "      <td>0</td>\n",
       "      <td>0</td>\n",
       "      <td>0</td>\n",
       "      <td>0</td>\n",
       "      <td>...</td>\n",
       "      <td>0</td>\n",
       "      <td>0</td>\n",
       "      <td>0</td>\n",
       "      <td>0</td>\n",
       "      <td>0</td>\n",
       "      <td>0</td>\n",
       "      <td>0</td>\n",
       "      <td>0</td>\n",
       "      <td>0</td>\n",
       "      <td>0</td>\n",
       "    </tr>\n",
       "    <tr>\n",
       "      <th>13996</th>\n",
       "      <td>0</td>\n",
       "      <td>1</td>\n",
       "      <td>0</td>\n",
       "      <td>0</td>\n",
       "      <td>0</td>\n",
       "      <td>0</td>\n",
       "      <td>0</td>\n",
       "      <td>0</td>\n",
       "      <td>0</td>\n",
       "      <td>0</td>\n",
       "      <td>...</td>\n",
       "      <td>0</td>\n",
       "      <td>1</td>\n",
       "      <td>0</td>\n",
       "      <td>0</td>\n",
       "      <td>0</td>\n",
       "      <td>0</td>\n",
       "      <td>0</td>\n",
       "      <td>0</td>\n",
       "      <td>0</td>\n",
       "      <td>0</td>\n",
       "    </tr>\n",
       "    <tr>\n",
       "      <th>13997</th>\n",
       "      <td>1</td>\n",
       "      <td>0</td>\n",
       "      <td>0</td>\n",
       "      <td>0</td>\n",
       "      <td>0</td>\n",
       "      <td>0</td>\n",
       "      <td>0</td>\n",
       "      <td>0</td>\n",
       "      <td>0</td>\n",
       "      <td>0</td>\n",
       "      <td>...</td>\n",
       "      <td>0</td>\n",
       "      <td>0</td>\n",
       "      <td>0</td>\n",
       "      <td>0</td>\n",
       "      <td>0</td>\n",
       "      <td>0</td>\n",
       "      <td>0</td>\n",
       "      <td>1</td>\n",
       "      <td>0</td>\n",
       "      <td>0</td>\n",
       "    </tr>\n",
       "    <tr>\n",
       "      <th>13998</th>\n",
       "      <td>0</td>\n",
       "      <td>0</td>\n",
       "      <td>0</td>\n",
       "      <td>0</td>\n",
       "      <td>0</td>\n",
       "      <td>0</td>\n",
       "      <td>0</td>\n",
       "      <td>0</td>\n",
       "      <td>0</td>\n",
       "      <td>0</td>\n",
       "      <td>...</td>\n",
       "      <td>0</td>\n",
       "      <td>0</td>\n",
       "      <td>0</td>\n",
       "      <td>0</td>\n",
       "      <td>0</td>\n",
       "      <td>0</td>\n",
       "      <td>0</td>\n",
       "      <td>0</td>\n",
       "      <td>0</td>\n",
       "      <td>1</td>\n",
       "    </tr>\n",
       "    <tr>\n",
       "      <th>13999</th>\n",
       "      <td>0</td>\n",
       "      <td>0</td>\n",
       "      <td>0</td>\n",
       "      <td>0</td>\n",
       "      <td>1</td>\n",
       "      <td>0</td>\n",
       "      <td>0</td>\n",
       "      <td>0</td>\n",
       "      <td>0</td>\n",
       "      <td>0</td>\n",
       "      <td>...</td>\n",
       "      <td>0</td>\n",
       "      <td>0</td>\n",
       "      <td>0</td>\n",
       "      <td>0</td>\n",
       "      <td>0</td>\n",
       "      <td>1</td>\n",
       "      <td>0</td>\n",
       "      <td>0</td>\n",
       "      <td>0</td>\n",
       "      <td>0</td>\n",
       "    </tr>\n",
       "  </tbody>\n",
       "</table>\n",
       "<p>5 rows × 27 columns</p>\n",
       "</div>"
      ],
      "text/plain": [
       "       wind_ENE  wind_ESE  wind_N  wind_NE  wind_NNE  wind_NNW  wind_NW  \\\n",
       "13995         0         0       0        0         0         0        0   \n",
       "13996         0         1       0        0         0         0        0   \n",
       "13997         1         0       0        0         0         0        0   \n",
       "13998         0         0       0        0         0         0        0   \n",
       "13999         0         0       0        0         1         0        0   \n",
       "\n",
       "       wind_S  wind_SE  wind_SSE  ...  month_Dec  month_Feb  month_Jan  \\\n",
       "13995       0        0         0  ...          0          0          0   \n",
       "13996       0        0         0  ...          0          1          0   \n",
       "13997       0        0         0  ...          0          0          0   \n",
       "13998       0        0         0  ...          0          0          0   \n",
       "13999       0        0         0  ...          0          0          0   \n",
       "\n",
       "       month_Jul  month_Jun  month_Mar  month_May  month_Nov  month_Oct  \\\n",
       "13995          0          0          0          0          0          0   \n",
       "13996          0          0          0          0          0          0   \n",
       "13997          0          0          0          0          1          0   \n",
       "13998          0          0          0          0          0          0   \n",
       "13999          0          0          1          0          0          0   \n",
       "\n",
       "       month_Sep  \n",
       "13995          0  \n",
       "13996          0  \n",
       "13997          0  \n",
       "13998          1  \n",
       "13999          0  \n",
       "\n",
       "[5 rows x 27 columns]"
      ]
     },
     "execution_count": 16,
     "metadata": {},
     "output_type": "execute_result"
    }
   ],
   "source": [
    "dummies = pd.get_dummies(df_categorical.astype(str),drop_first=True) \n",
    "\n",
    "dummies.tail()"
   ]
  },
  {
   "cell_type": "markdown",
   "metadata": {},
   "source": [
    "## Numerical data"
   ]
  },
  {
   "cell_type": "code",
   "execution_count": 21,
   "metadata": {},
   "outputs": [
    {
     "data": {
      "text/plain": [
       "array([[<matplotlib.axes._subplots.AxesSubplot object at 0x7f088515a350>,\n",
       "        <matplotlib.axes._subplots.AxesSubplot object at 0x7f08853aabd0>,\n",
       "        <matplotlib.axes._subplots.AxesSubplot object at 0x7f0885355e10>],\n",
       "       [<matplotlib.axes._subplots.AxesSubplot object at 0x7f088530bad0>,\n",
       "        <matplotlib.axes._subplots.AxesSubplot object at 0x7f08852cbe50>,\n",
       "        <matplotlib.axes._subplots.AxesSubplot object at 0x7f0885280b10>],\n",
       "       [<matplotlib.axes._subplots.AxesSubplot object at 0x7f088523ef90>,\n",
       "        <matplotlib.axes._subplots.AxesSubplot object at 0x7f0885275b50>,\n",
       "        <matplotlib.axes._subplots.AxesSubplot object at 0x7f0880f606d0>],\n",
       "       [<matplotlib.axes._subplots.AxesSubplot object at 0x7f0880f24090>,\n",
       "        <matplotlib.axes._subplots.AxesSubplot object at 0x7f0880f0af10>,\n",
       "        <matplotlib.axes._subplots.AxesSubplot object at 0x7f0880ebebd0>]],\n",
       "      dtype=object)"
      ]
     },
     "execution_count": 21,
     "metadata": {},
     "output_type": "execute_result"
    },
    {
     "data": {
      "image/png": "[encoded data removed]",
      "text/plain": [
       "<Figure size 720x720 with 12 Axes>"
      ]
     },
     "metadata": {
      "needs_background": "light"
     },
     "output_type": "display_data"
    }
   ],
   "source": [
    "df_numerical.hist(figsize=(10,10))"
   ]
  },
  {
   "cell_type": "code",
   "execution_count": 22,
   "metadata": {},
   "outputs": [
    {
     "data": {
      "text/plain": [
       "Index(['hour', 'small_part', 'med_part', 'sulf_diox', 'nitr_diox', 'trioxygen',\n",
       "       'temp', 'pres', 'rain', 'wind', 'wind_sp', 'carb_monox', 'day', 'month',\n",
       "       'year'],\n",
       "      dtype='object')"
      ]
     },
     "execution_count": 22,
     "metadata": {},
     "output_type": "execute_result"
    }
   ],
   "source": [
    "df.columns"
   ]
  },
  {
   "cell_type": "code",
   "execution_count": 19,
   "metadata": {},
   "outputs": [
    {
     "name": "stderr",
     "output_type": "stream",
     "text": [
      "/home/mausoto/anaconda3/lib/python3.7/site-packages/ipykernel_launcher.py:1: SettingWithCopyWarning: \n",
      "A value is trying to be set on a copy of a slice from a DataFrame.\n",
      "Try using .loc[row_indexer,col_indexer] = value instead\n",
      "\n",
      "See the caveats in the documentation: https://pandas.pydata.org/pandas-docs/stable/user_guide/indexing.html#returning-a-view-versus-a-copy\n",
      "  \"\"\"Entry point for launching an IPython kernel.\n"
     ]
    }
   ],
   "source": [
    "df_numerical['log_rain']=np.log(df_numerical['rain']+1)\n",
    "df_numerical['log_small_part']=np.log(df_numerical['small_part']+1)\n",
    "df_numerical['log_med_part']=np.log(df_numerical['med_part']+1)\n",
    "df_numerical['log_sulf_diox']=np.log(df_numerical['sulf_diox']+1)\n",
    "df_numerical['log_carb_monox']=np.log(df_numerical['carb_monox']+1)\n",
    "\n"
   ]
  },
  {
   "cell_type": "code",
   "execution_count": 20,
   "metadata": {},
   "outputs": [],
   "source": [
    "df_numerical.drop(['small_part', 'med_part', 'sulf_diox', 'rain', 'log_rain', 'carb_monox'],axis=1, inplace=True)"
   ]
  },
  {
   "cell_type": "code",
   "execution_count": 23,
   "metadata": {},
   "outputs": [
    {
     "data": {
      "image/png": "[encoded data removed]",
      "text/plain": [
       "<Figure size 720x720 with 2 Axes>"
      ]
     },
     "metadata": {
      "needs_background": "light"
     },
     "output_type": "display_data"
    }
   ],
   "source": [
    "#We can visualise the correlation using a heatmap in Seaborn\n",
    "\n",
    "import matplotlib.pyplot as plt\n",
    "import seaborn as sns\n",
    "%matplotlib inline\n",
    "\n",
    "plt.figure(figsize = (10,10))\n",
    "sns.heatmap(data=df_numerical.corr().round(2), cmap='coolwarm', linewidths=.5, annot=True, annot_kws={\"size\":12})\n",
    "plt.show()"
   ]
  },
  {
   "cell_type": "code",
   "execution_count": 24,
   "metadata": {},
   "outputs": [
    {
     "data": {
      "text/plain": [
       "<seaborn.axisgrid.PairGrid at 0x7f08b8226e90>"
      ]
     },
     "execution_count": 24,
     "metadata": {},
     "output_type": "execute_result"
    },
    {
     "data": {
      "image/png": "[encoded data removed]",
      "text/plain": [
       "<Figure size 2160x180 with 12 Axes>"
      ]
     },
     "metadata": {
      "needs_background": "light"
     },
     "output_type": "display_data"
    }
   ],
   "source": [
    "# visualize the relationship between the features and the response using scatterplots\n",
    "%matplotlib inline\n",
    "import seaborn as sns\n",
    "sns.pairplot(df_numerical, x_vars=df_numerical.columns, y_vars='log_carb_monox')"
   ]
  },
  {
   "cell_type": "markdown",
   "metadata": {},
   "source": [
    "## Standarize"
   ]
  },
  {
   "cell_type": "code",
   "execution_count": 25,
   "metadata": {},
   "outputs": [
    {
     "data": {
      "text/html": [
       "<div>\n",
       "<style scoped>\n",
       "    .dataframe tbody tr th:only-of-type {\n",
       "        vertical-align: middle;\n",
       "    }\n",
       "\n",
       "    .dataframe tbody tr th {\n",
       "        vertical-align: top;\n",
       "    }\n",
       "\n",
       "    .dataframe thead th {\n",
       "        text-align: right;\n",
       "    }\n",
       "</style>\n",
       "<table border=\"1\" class=\"dataframe\">\n",
       "  <thead>\n",
       "    <tr style=\"text-align: right;\">\n",
       "      <th></th>\n",
       "      <th>hour</th>\n",
       "      <th>nitr_diox</th>\n",
       "      <th>trioxygen</th>\n",
       "      <th>temp</th>\n",
       "      <th>pres</th>\n",
       "      <th>wind_sp</th>\n",
       "      <th>day</th>\n",
       "      <th>year</th>\n",
       "      <th>log_small_part</th>\n",
       "      <th>log_med_part</th>\n",
       "      <th>log_sulf_diox</th>\n",
       "      <th>log_carb_monox</th>\n",
       "    </tr>\n",
       "  </thead>\n",
       "  <tbody>\n",
       "    <tr>\n",
       "      <th>0</th>\n",
       "      <td>1.640549</td>\n",
       "      <td>-9.650294e-01</td>\n",
       "      <td>-0.508910</td>\n",
       "      <td>-0.539238</td>\n",
       "      <td>1.098403</td>\n",
       "      <td>0.600621</td>\n",
       "      <td>0.812969</td>\n",
       "      <td>-1.416317</td>\n",
       "      <td>-1.173090</td>\n",
       "      <td>-0.509620</td>\n",
       "      <td>-1.561441</td>\n",
       "      <td>-1.865579</td>\n",
       "    </tr>\n",
       "    <tr>\n",
       "      <th>1</th>\n",
       "      <td>1.352166</td>\n",
       "      <td>6.214873e-01</td>\n",
       "      <td>-0.850160</td>\n",
       "      <td>-1.204674</td>\n",
       "      <td>0.499790</td>\n",
       "      <td>-0.853181</td>\n",
       "      <td>-0.771672</td>\n",
       "      <td>0.288988</td>\n",
       "      <td>0.441622</td>\n",
       "      <td>0.515522</td>\n",
       "      <td>1.165008</td>\n",
       "      <td>1.077697</td>\n",
       "    </tr>\n",
       "    <tr>\n",
       "      <th>2</th>\n",
       "      <td>1.352166</td>\n",
       "      <td>-2.727312e-01</td>\n",
       "      <td>2.526422</td>\n",
       "      <td>1.360756</td>\n",
       "      <td>-0.839961</td>\n",
       "      <td>-1.095481</td>\n",
       "      <td>-0.545294</td>\n",
       "      <td>0.288988</td>\n",
       "      <td>0.544277</td>\n",
       "      <td>0.729388</td>\n",
       "      <td>0.021214</td>\n",
       "      <td>-0.298914</td>\n",
       "    </tr>\n",
       "    <tr>\n",
       "      <th>3</th>\n",
       "      <td>-0.089749</td>\n",
       "      <td>-8.198457e-16</td>\n",
       "      <td>-0.670554</td>\n",
       "      <td>0.038640</td>\n",
       "      <td>0.518794</td>\n",
       "      <td>0.116020</td>\n",
       "      <td>1.492101</td>\n",
       "      <td>-0.563664</td>\n",
       "      <td>0.462424</td>\n",
       "      <td>0.405636</td>\n",
       "      <td>0.546492</td>\n",
       "      <td>0.400024</td>\n",
       "    </tr>\n",
       "    <tr>\n",
       "      <th>4</th>\n",
       "      <td>-1.675855</td>\n",
       "      <td>-1.285024e-01</td>\n",
       "      <td>-0.742397</td>\n",
       "      <td>-1.292231</td>\n",
       "      <td>1.373955</td>\n",
       "      <td>-0.368580</td>\n",
       "      <td>-0.998049</td>\n",
       "      <td>-0.563664</td>\n",
       "      <td>0.441622</td>\n",
       "      <td>-0.217482</td>\n",
       "      <td>1.432416</td>\n",
       "      <td>0.476616</td>\n",
       "    </tr>\n",
       "  </tbody>\n",
       "</table>\n",
       "</div>"
      ],
      "text/plain": [
       "       hour     nitr_diox  trioxygen      temp      pres   wind_sp       day  \\\n",
       "0  1.640549 -9.650294e-01  -0.508910 -0.539238  1.098403  0.600621  0.812969   \n",
       "1  1.352166  6.214873e-01  -0.850160 -1.204674  0.499790 -0.853181 -0.771672   \n",
       "2  1.352166 -2.727312e-01   2.526422  1.360756 -0.839961 -1.095481 -0.545294   \n",
       "3 -0.089749 -8.198457e-16  -0.670554  0.038640  0.518794  0.116020  1.492101   \n",
       "4 -1.675855 -1.285024e-01  -0.742397 -1.292231  1.373955 -0.368580 -0.998049   \n",
       "\n",
       "       year  log_small_part  log_med_part  log_sulf_diox  log_carb_monox  \n",
       "0 -1.416317       -1.173090     -0.509620      -1.561441       -1.865579  \n",
       "1  0.288988        0.441622      0.515522       1.165008        1.077697  \n",
       "2  0.288988        0.544277      0.729388       0.021214       -0.298914  \n",
       "3 -0.563664        0.462424      0.405636       0.546492        0.400024  \n",
       "4 -0.563664        0.441622     -0.217482       1.432416        0.476616  "
      ]
     },
     "execution_count": 25,
     "metadata": {},
     "output_type": "execute_result"
    }
   ],
   "source": [
    "from sklearn.preprocessing import StandardScaler\n",
    "\n",
    "scaler = StandardScaler().fit(df_numerical)\n",
    "scaled_df = pd.DataFrame(scaler.transform(df_numerical))\n",
    "scaled_df.columns = df_numerical.columns\n",
    "\n",
    "scaled_df.head()"
   ]
  },
  {
   "cell_type": "code",
   "execution_count": 26,
   "metadata": {},
   "outputs": [
    {
     "data": {
      "text/plain": [
       "<matplotlib.axes._subplots.AxesSubplot at 0x7f085acccf10>"
      ]
     },
     "execution_count": 26,
     "metadata": {},
     "output_type": "execute_result"
    },
    {
     "data": {
      "image/png": "[encoded data removed]",
      "text/plain": [
       "<Figure size 432x288 with 1 Axes>"
      ]
     },
     "metadata": {
      "needs_background": "light"
     },
     "output_type": "display_data"
    }
   ],
   "source": [
    "scaled_df.boxplot()"
   ]
  },
  {
   "cell_type": "code",
   "execution_count": 27,
   "metadata": {},
   "outputs": [
    {
     "data": {
      "text/html": [
       "<div>\n",
       "<style scoped>\n",
       "    .dataframe tbody tr th:only-of-type {\n",
       "        vertical-align: middle;\n",
       "    }\n",
       "\n",
       "    .dataframe tbody tr th {\n",
       "        vertical-align: top;\n",
       "    }\n",
       "\n",
       "    .dataframe thead th {\n",
       "        text-align: right;\n",
       "    }\n",
       "</style>\n",
       "<table border=\"1\" class=\"dataframe\">\n",
       "  <thead>\n",
       "    <tr style=\"text-align: right;\">\n",
       "      <th></th>\n",
       "      <th>hour</th>\n",
       "      <th>nitr_diox</th>\n",
       "      <th>trioxygen</th>\n",
       "      <th>temp</th>\n",
       "      <th>pres</th>\n",
       "      <th>wind_sp</th>\n",
       "      <th>day</th>\n",
       "      <th>year</th>\n",
       "      <th>log_small_part</th>\n",
       "      <th>log_med_part</th>\n",
       "      <th>log_sulf_diox</th>\n",
       "      <th>log_carb_monox</th>\n",
       "    </tr>\n",
       "  </thead>\n",
       "  <tbody>\n",
       "    <tr>\n",
       "      <th>0</th>\n",
       "      <td>1.640549</td>\n",
       "      <td>-9.650294e-01</td>\n",
       "      <td>-0.508910</td>\n",
       "      <td>-0.539238</td>\n",
       "      <td>1.098403</td>\n",
       "      <td>0.600621</td>\n",
       "      <td>0.812969</td>\n",
       "      <td>-1.416317</td>\n",
       "      <td>-1.173090</td>\n",
       "      <td>-0.509620</td>\n",
       "      <td>-1.561441</td>\n",
       "      <td>-1.865579</td>\n",
       "    </tr>\n",
       "    <tr>\n",
       "      <th>1</th>\n",
       "      <td>1.352166</td>\n",
       "      <td>6.214873e-01</td>\n",
       "      <td>-0.850160</td>\n",
       "      <td>-1.204674</td>\n",
       "      <td>0.499790</td>\n",
       "      <td>-0.853181</td>\n",
       "      <td>-0.771672</td>\n",
       "      <td>0.288988</td>\n",
       "      <td>0.441622</td>\n",
       "      <td>0.515522</td>\n",
       "      <td>1.165008</td>\n",
       "      <td>1.077697</td>\n",
       "    </tr>\n",
       "    <tr>\n",
       "      <th>2</th>\n",
       "      <td>1.352166</td>\n",
       "      <td>-2.727312e-01</td>\n",
       "      <td>2.526422</td>\n",
       "      <td>1.360756</td>\n",
       "      <td>-0.839961</td>\n",
       "      <td>-1.095481</td>\n",
       "      <td>-0.545294</td>\n",
       "      <td>0.288988</td>\n",
       "      <td>0.544277</td>\n",
       "      <td>0.729388</td>\n",
       "      <td>0.021214</td>\n",
       "      <td>-0.298914</td>\n",
       "    </tr>\n",
       "    <tr>\n",
       "      <th>3</th>\n",
       "      <td>-0.089749</td>\n",
       "      <td>-8.198457e-16</td>\n",
       "      <td>-0.670554</td>\n",
       "      <td>0.038640</td>\n",
       "      <td>0.518794</td>\n",
       "      <td>0.116020</td>\n",
       "      <td>1.492101</td>\n",
       "      <td>-0.563664</td>\n",
       "      <td>0.462424</td>\n",
       "      <td>0.405636</td>\n",
       "      <td>0.546492</td>\n",
       "      <td>0.400024</td>\n",
       "    </tr>\n",
       "    <tr>\n",
       "      <th>4</th>\n",
       "      <td>-1.675855</td>\n",
       "      <td>-1.285024e-01</td>\n",
       "      <td>-0.742397</td>\n",
       "      <td>-1.292231</td>\n",
       "      <td>1.373955</td>\n",
       "      <td>-0.368580</td>\n",
       "      <td>-0.998049</td>\n",
       "      <td>-0.563664</td>\n",
       "      <td>0.441622</td>\n",
       "      <td>-0.217482</td>\n",
       "      <td>1.432416</td>\n",
       "      <td>0.476616</td>\n",
       "    </tr>\n",
       "    <tr>\n",
       "      <th>...</th>\n",
       "      <td>...</td>\n",
       "      <td>...</td>\n",
       "      <td>...</td>\n",
       "      <td>...</td>\n",
       "      <td>...</td>\n",
       "      <td>...</td>\n",
       "      <td>...</td>\n",
       "      <td>...</td>\n",
       "      <td>...</td>\n",
       "      <td>...</td>\n",
       "      <td>...</td>\n",
       "      <td>...</td>\n",
       "    </tr>\n",
       "    <tr>\n",
       "      <th>13995</th>\n",
       "      <td>0.919592</td>\n",
       "      <td>-7.342633e-01</td>\n",
       "      <td>1.736158</td>\n",
       "      <td>1.562138</td>\n",
       "      <td>-1.695122</td>\n",
       "      <td>-0.045513</td>\n",
       "      <td>-0.658483</td>\n",
       "      <td>-0.563664</td>\n",
       "      <td>-0.936837</td>\n",
       "      <td>-1.454834</td>\n",
       "      <td>-0.879829</td>\n",
       "      <td>-0.999405</td>\n",
       "    </tr>\n",
       "    <tr>\n",
       "      <th>13996</th>\n",
       "      <td>0.198634</td>\n",
       "      <td>-3.881143e-01</td>\n",
       "      <td>-0.688515</td>\n",
       "      <td>-1.117117</td>\n",
       "      <td>0.214737</td>\n",
       "      <td>0.842921</td>\n",
       "      <td>0.473403</td>\n",
       "      <td>0.288988</td>\n",
       "      <td>0.806578</td>\n",
       "      <td>0.506366</td>\n",
       "      <td>-0.481111</td>\n",
       "      <td>0.736842</td>\n",
       "    </tr>\n",
       "    <tr>\n",
       "      <th>13997</th>\n",
       "      <td>-0.378132</td>\n",
       "      <td>7.657161e-01</td>\n",
       "      <td>-0.993844</td>\n",
       "      <td>-1.318498</td>\n",
       "      <td>1.706517</td>\n",
       "      <td>-0.449347</td>\n",
       "      <td>0.926158</td>\n",
       "      <td>1.141641</td>\n",
       "      <td>-0.367027</td>\n",
       "      <td>-0.049271</td>\n",
       "      <td>-0.198217</td>\n",
       "      <td>0.812828</td>\n",
       "    </tr>\n",
       "    <tr>\n",
       "      <th>13998</th>\n",
       "      <td>-1.099089</td>\n",
       "      <td>-7.081092e-02</td>\n",
       "      <td>-0.670554</td>\n",
       "      <td>0.660297</td>\n",
       "      <td>-0.193840</td>\n",
       "      <td>-1.418548</td>\n",
       "      <td>-1.677181</td>\n",
       "      <td>-0.563664</td>\n",
       "      <td>0.441622</td>\n",
       "      <td>0.095819</td>\n",
       "      <td>-1.162723</td>\n",
       "      <td>0.147866</td>\n",
       "    </tr>\n",
       "    <tr>\n",
       "      <th>13999</th>\n",
       "      <td>-0.522323</td>\n",
       "      <td>-6.765718e-01</td>\n",
       "      <td>0.047867</td>\n",
       "      <td>-1.344766</td>\n",
       "      <td>1.307442</td>\n",
       "      <td>-0.045513</td>\n",
       "      <td>-0.884860</td>\n",
       "      <td>1.141641</td>\n",
       "      <td>-1.588443</td>\n",
       "      <td>-1.065964</td>\n",
       "      <td>-0.879829</td>\n",
       "      <td>-0.999405</td>\n",
       "    </tr>\n",
       "  </tbody>\n",
       "</table>\n",
       "<p>14000 rows × 12 columns</p>\n",
       "</div>"
      ],
      "text/plain": [
       "           hour     nitr_diox  trioxygen      temp      pres   wind_sp  \\\n",
       "0      1.640549 -9.650294e-01  -0.508910 -0.539238  1.098403  0.600621   \n",
       "1      1.352166  6.214873e-01  -0.850160 -1.204674  0.499790 -0.853181   \n",
       "2      1.352166 -2.727312e-01   2.526422  1.360756 -0.839961 -1.095481   \n",
       "3     -0.089749 -8.198457e-16  -0.670554  0.038640  0.518794  0.116020   \n",
       "4     -1.675855 -1.285024e-01  -0.742397 -1.292231  1.373955 -0.368580   \n",
       "...         ...           ...        ...       ...       ...       ...   \n",
       "13995  0.919592 -7.342633e-01   1.736158  1.562138 -1.695122 -0.045513   \n",
       "13996  0.198634 -3.881143e-01  -0.688515 -1.117117  0.214737  0.842921   \n",
       "13997 -0.378132  7.657161e-01  -0.993844 -1.318498  1.706517 -0.449347   \n",
       "13998 -1.099089 -7.081092e-02  -0.670554  0.660297 -0.193840 -1.418548   \n",
       "13999 -0.522323 -6.765718e-01   0.047867 -1.344766  1.307442 -0.045513   \n",
       "\n",
       "            day      year  log_small_part  log_med_part  log_sulf_diox  \\\n",
       "0      0.812969 -1.416317       -1.173090     -0.509620      -1.561441   \n",
       "1     -0.771672  0.288988        0.441622      0.515522       1.165008   \n",
       "2     -0.545294  0.288988        0.544277      0.729388       0.021214   \n",
       "3      1.492101 -0.563664        0.462424      0.405636       0.546492   \n",
       "4     -0.998049 -0.563664        0.441622     -0.217482       1.432416   \n",
       "...         ...       ...             ...           ...            ...   \n",
       "13995 -0.658483 -0.563664       -0.936837     -1.454834      -0.879829   \n",
       "13996  0.473403  0.288988        0.806578      0.506366      -0.481111   \n",
       "13997  0.926158  1.141641       -0.367027     -0.049271      -0.198217   \n",
       "13998 -1.677181 -0.563664        0.441622      0.095819      -1.162723   \n",
       "13999 -0.884860  1.141641       -1.588443     -1.065964      -0.879829   \n",
       "\n",
       "       log_carb_monox  \n",
       "0           -1.865579  \n",
       "1            1.077697  \n",
       "2           -0.298914  \n",
       "3            0.400024  \n",
       "4            0.476616  \n",
       "...               ...  \n",
       "13995       -0.999405  \n",
       "13996        0.736842  \n",
       "13997        0.812828  \n",
       "13998        0.147866  \n",
       "13999       -0.999405  \n",
       "\n",
       "[14000 rows x 12 columns]"
      ]
     },
     "execution_count": 27,
     "metadata": {},
     "output_type": "execute_result"
    }
   ],
   "source": [
    "scaled_df"
   ]
  },
  {
   "cell_type": "code",
   "execution_count": 28,
   "metadata": {},
   "outputs": [],
   "source": [
    "X_numerical=scaled_df.drop(['log_carb_monox'],axis=1)"
   ]
  },
  {
   "cell_type": "code",
   "execution_count": 29,
   "metadata": {},
   "outputs": [
    {
     "data": {
      "text/html": [
       "<div>\n",
       "<style scoped>\n",
       "    .dataframe tbody tr th:only-of-type {\n",
       "        vertical-align: middle;\n",
       "    }\n",
       "\n",
       "    .dataframe tbody tr th {\n",
       "        vertical-align: top;\n",
       "    }\n",
       "\n",
       "    .dataframe thead th {\n",
       "        text-align: right;\n",
       "    }\n",
       "</style>\n",
       "<table border=\"1\" class=\"dataframe\">\n",
       "  <thead>\n",
       "    <tr style=\"text-align: right;\">\n",
       "      <th></th>\n",
       "      <th>hour</th>\n",
       "      <th>nitr_diox</th>\n",
       "      <th>trioxygen</th>\n",
       "      <th>temp</th>\n",
       "      <th>pres</th>\n",
       "      <th>wind_sp</th>\n",
       "      <th>day</th>\n",
       "      <th>year</th>\n",
       "      <th>log_small_part</th>\n",
       "      <th>log_med_part</th>\n",
       "      <th>log_sulf_diox</th>\n",
       "    </tr>\n",
       "  </thead>\n",
       "  <tbody>\n",
       "    <tr>\n",
       "      <th>0</th>\n",
       "      <td>1.640549</td>\n",
       "      <td>-9.650294e-01</td>\n",
       "      <td>-0.508910</td>\n",
       "      <td>-0.539238</td>\n",
       "      <td>1.098403</td>\n",
       "      <td>0.600621</td>\n",
       "      <td>0.812969</td>\n",
       "      <td>-1.416317</td>\n",
       "      <td>-1.173090</td>\n",
       "      <td>-0.509620</td>\n",
       "      <td>-1.561441</td>\n",
       "    </tr>\n",
       "    <tr>\n",
       "      <th>1</th>\n",
       "      <td>1.352166</td>\n",
       "      <td>6.214873e-01</td>\n",
       "      <td>-0.850160</td>\n",
       "      <td>-1.204674</td>\n",
       "      <td>0.499790</td>\n",
       "      <td>-0.853181</td>\n",
       "      <td>-0.771672</td>\n",
       "      <td>0.288988</td>\n",
       "      <td>0.441622</td>\n",
       "      <td>0.515522</td>\n",
       "      <td>1.165008</td>\n",
       "    </tr>\n",
       "    <tr>\n",
       "      <th>2</th>\n",
       "      <td>1.352166</td>\n",
       "      <td>-2.727312e-01</td>\n",
       "      <td>2.526422</td>\n",
       "      <td>1.360756</td>\n",
       "      <td>-0.839961</td>\n",
       "      <td>-1.095481</td>\n",
       "      <td>-0.545294</td>\n",
       "      <td>0.288988</td>\n",
       "      <td>0.544277</td>\n",
       "      <td>0.729388</td>\n",
       "      <td>0.021214</td>\n",
       "    </tr>\n",
       "    <tr>\n",
       "      <th>3</th>\n",
       "      <td>-0.089749</td>\n",
       "      <td>-8.198457e-16</td>\n",
       "      <td>-0.670554</td>\n",
       "      <td>0.038640</td>\n",
       "      <td>0.518794</td>\n",
       "      <td>0.116020</td>\n",
       "      <td>1.492101</td>\n",
       "      <td>-0.563664</td>\n",
       "      <td>0.462424</td>\n",
       "      <td>0.405636</td>\n",
       "      <td>0.546492</td>\n",
       "    </tr>\n",
       "    <tr>\n",
       "      <th>4</th>\n",
       "      <td>-1.675855</td>\n",
       "      <td>-1.285024e-01</td>\n",
       "      <td>-0.742397</td>\n",
       "      <td>-1.292231</td>\n",
       "      <td>1.373955</td>\n",
       "      <td>-0.368580</td>\n",
       "      <td>-0.998049</td>\n",
       "      <td>-0.563664</td>\n",
       "      <td>0.441622</td>\n",
       "      <td>-0.217482</td>\n",
       "      <td>1.432416</td>\n",
       "    </tr>\n",
       "  </tbody>\n",
       "</table>\n",
       "</div>"
      ],
      "text/plain": [
       "       hour     nitr_diox  trioxygen      temp      pres   wind_sp       day  \\\n",
       "0  1.640549 -9.650294e-01  -0.508910 -0.539238  1.098403  0.600621  0.812969   \n",
       "1  1.352166  6.214873e-01  -0.850160 -1.204674  0.499790 -0.853181 -0.771672   \n",
       "2  1.352166 -2.727312e-01   2.526422  1.360756 -0.839961 -1.095481 -0.545294   \n",
       "3 -0.089749 -8.198457e-16  -0.670554  0.038640  0.518794  0.116020  1.492101   \n",
       "4 -1.675855 -1.285024e-01  -0.742397 -1.292231  1.373955 -0.368580 -0.998049   \n",
       "\n",
       "       year  log_small_part  log_med_part  log_sulf_diox  \n",
       "0 -1.416317       -1.173090     -0.509620      -1.561441  \n",
       "1  0.288988        0.441622      0.515522       1.165008  \n",
       "2  0.288988        0.544277      0.729388       0.021214  \n",
       "3 -0.563664        0.462424      0.405636       0.546492  \n",
       "4 -0.563664        0.441622     -0.217482       1.432416  "
      ]
     },
     "execution_count": 29,
     "metadata": {},
     "output_type": "execute_result"
    }
   ],
   "source": [
    "X_numerical.head()"
   ]
  },
  {
   "cell_type": "code",
   "execution_count": 30,
   "metadata": {},
   "outputs": [
    {
     "name": "stdout",
     "output_type": "stream",
     "text": [
      "(14000, 27)\n",
      "(14000, 11)\n"
     ]
    }
   ],
   "source": [
    "print(dummies.shape)\n",
    "print(X_numerical.shape)\n"
   ]
  },
  {
   "cell_type": "code",
   "execution_count": 31,
   "metadata": {},
   "outputs": [
    {
     "data": {
      "text/html": [
       "<div>\n",
       "<style scoped>\n",
       "    .dataframe tbody tr th:only-of-type {\n",
       "        vertical-align: middle;\n",
       "    }\n",
       "\n",
       "    .dataframe tbody tr th {\n",
       "        vertical-align: top;\n",
       "    }\n",
       "\n",
       "    .dataframe thead th {\n",
       "        text-align: right;\n",
       "    }\n",
       "</style>\n",
       "<table border=\"1\" class=\"dataframe\">\n",
       "  <thead>\n",
       "    <tr style=\"text-align: right;\">\n",
       "      <th></th>\n",
       "      <th>wind_ENE</th>\n",
       "      <th>wind_ESE</th>\n",
       "      <th>wind_N</th>\n",
       "      <th>wind_NE</th>\n",
       "      <th>wind_NNE</th>\n",
       "      <th>wind_NNW</th>\n",
       "      <th>wind_NW</th>\n",
       "      <th>wind_S</th>\n",
       "      <th>wind_SE</th>\n",
       "      <th>wind_SSE</th>\n",
       "      <th>...</th>\n",
       "      <th>nitr_diox</th>\n",
       "      <th>trioxygen</th>\n",
       "      <th>temp</th>\n",
       "      <th>pres</th>\n",
       "      <th>wind_sp</th>\n",
       "      <th>day</th>\n",
       "      <th>year</th>\n",
       "      <th>log_small_part</th>\n",
       "      <th>log_med_part</th>\n",
       "      <th>log_sulf_diox</th>\n",
       "    </tr>\n",
       "  </thead>\n",
       "  <tbody>\n",
       "    <tr>\n",
       "      <th>13995</th>\n",
       "      <td>0</td>\n",
       "      <td>0</td>\n",
       "      <td>0</td>\n",
       "      <td>0</td>\n",
       "      <td>0</td>\n",
       "      <td>0</td>\n",
       "      <td>0</td>\n",
       "      <td>0</td>\n",
       "      <td>0</td>\n",
       "      <td>0</td>\n",
       "      <td>...</td>\n",
       "      <td>-0.734263</td>\n",
       "      <td>1.736158</td>\n",
       "      <td>1.562138</td>\n",
       "      <td>-1.695122</td>\n",
       "      <td>-0.045513</td>\n",
       "      <td>-0.658483</td>\n",
       "      <td>-0.563664</td>\n",
       "      <td>-0.936837</td>\n",
       "      <td>-1.454834</td>\n",
       "      <td>-0.879829</td>\n",
       "    </tr>\n",
       "    <tr>\n",
       "      <th>13996</th>\n",
       "      <td>0</td>\n",
       "      <td>1</td>\n",
       "      <td>0</td>\n",
       "      <td>0</td>\n",
       "      <td>0</td>\n",
       "      <td>0</td>\n",
       "      <td>0</td>\n",
       "      <td>0</td>\n",
       "      <td>0</td>\n",
       "      <td>0</td>\n",
       "      <td>...</td>\n",
       "      <td>-0.388114</td>\n",
       "      <td>-0.688515</td>\n",
       "      <td>-1.117117</td>\n",
       "      <td>0.214737</td>\n",
       "      <td>0.842921</td>\n",
       "      <td>0.473403</td>\n",
       "      <td>0.288988</td>\n",
       "      <td>0.806578</td>\n",
       "      <td>0.506366</td>\n",
       "      <td>-0.481111</td>\n",
       "    </tr>\n",
       "    <tr>\n",
       "      <th>13997</th>\n",
       "      <td>1</td>\n",
       "      <td>0</td>\n",
       "      <td>0</td>\n",
       "      <td>0</td>\n",
       "      <td>0</td>\n",
       "      <td>0</td>\n",
       "      <td>0</td>\n",
       "      <td>0</td>\n",
       "      <td>0</td>\n",
       "      <td>0</td>\n",
       "      <td>...</td>\n",
       "      <td>0.765716</td>\n",
       "      <td>-0.993844</td>\n",
       "      <td>-1.318498</td>\n",
       "      <td>1.706517</td>\n",
       "      <td>-0.449347</td>\n",
       "      <td>0.926158</td>\n",
       "      <td>1.141641</td>\n",
       "      <td>-0.367027</td>\n",
       "      <td>-0.049271</td>\n",
       "      <td>-0.198217</td>\n",
       "    </tr>\n",
       "    <tr>\n",
       "      <th>13998</th>\n",
       "      <td>0</td>\n",
       "      <td>0</td>\n",
       "      <td>0</td>\n",
       "      <td>0</td>\n",
       "      <td>0</td>\n",
       "      <td>0</td>\n",
       "      <td>0</td>\n",
       "      <td>0</td>\n",
       "      <td>0</td>\n",
       "      <td>0</td>\n",
       "      <td>...</td>\n",
       "      <td>-0.070811</td>\n",
       "      <td>-0.670554</td>\n",
       "      <td>0.660297</td>\n",
       "      <td>-0.193840</td>\n",
       "      <td>-1.418548</td>\n",
       "      <td>-1.677181</td>\n",
       "      <td>-0.563664</td>\n",
       "      <td>0.441622</td>\n",
       "      <td>0.095819</td>\n",
       "      <td>-1.162723</td>\n",
       "    </tr>\n",
       "    <tr>\n",
       "      <th>13999</th>\n",
       "      <td>0</td>\n",
       "      <td>0</td>\n",
       "      <td>0</td>\n",
       "      <td>0</td>\n",
       "      <td>1</td>\n",
       "      <td>0</td>\n",
       "      <td>0</td>\n",
       "      <td>0</td>\n",
       "      <td>0</td>\n",
       "      <td>0</td>\n",
       "      <td>...</td>\n",
       "      <td>-0.676572</td>\n",
       "      <td>0.047867</td>\n",
       "      <td>-1.344766</td>\n",
       "      <td>1.307442</td>\n",
       "      <td>-0.045513</td>\n",
       "      <td>-0.884860</td>\n",
       "      <td>1.141641</td>\n",
       "      <td>-1.588443</td>\n",
       "      <td>-1.065964</td>\n",
       "      <td>-0.879829</td>\n",
       "    </tr>\n",
       "  </tbody>\n",
       "</table>\n",
       "<p>5 rows × 38 columns</p>\n",
       "</div>"
      ],
      "text/plain": [
       "       wind_ENE  wind_ESE  wind_N  wind_NE  wind_NNE  wind_NNW  wind_NW  \\\n",
       "13995         0         0       0        0         0         0        0   \n",
       "13996         0         1       0        0         0         0        0   \n",
       "13997         1         0       0        0         0         0        0   \n",
       "13998         0         0       0        0         0         0        0   \n",
       "13999         0         0       0        0         1         0        0   \n",
       "\n",
       "       wind_S  wind_SE  wind_SSE  ...  nitr_diox  trioxygen      temp  \\\n",
       "13995       0        0         0  ...  -0.734263   1.736158  1.562138   \n",
       "13996       0        0         0  ...  -0.388114  -0.688515 -1.117117   \n",
       "13997       0        0         0  ...   0.765716  -0.993844 -1.318498   \n",
       "13998       0        0         0  ...  -0.070811  -0.670554  0.660297   \n",
       "13999       0        0         0  ...  -0.676572   0.047867 -1.344766   \n",
       "\n",
       "           pres   wind_sp       day      year  log_small_part  log_med_part  \\\n",
       "13995 -1.695122 -0.045513 -0.658483 -0.563664       -0.936837     -1.454834   \n",
       "13996  0.214737  0.842921  0.473403  0.288988        0.806578      0.506366   \n",
       "13997  1.706517 -0.449347  0.926158  1.141641       -0.367027     -0.049271   \n",
       "13998 -0.193840 -1.418548 -1.677181 -0.563664        0.441622      0.095819   \n",
       "13999  1.307442 -0.045513 -0.884860  1.141641       -1.588443     -1.065964   \n",
       "\n",
       "       log_sulf_diox  \n",
       "13995      -0.879829  \n",
       "13996      -0.481111  \n",
       "13997      -0.198217  \n",
       "13998      -1.162723  \n",
       "13999      -0.879829  \n",
       "\n",
       "[5 rows x 38 columns]"
      ]
     },
     "execution_count": 31,
     "metadata": {},
     "output_type": "execute_result"
    }
   ],
   "source": [
    "X=pd.concat([dummies,X_numerical], axis = 1)\n",
    "X.tail()"
   ]
  },
  {
   "cell_type": "markdown",
   "metadata": {},
   "source": [
    "### Separate Train/Test sets\n"
   ]
  },
  {
   "cell_type": "code",
   "execution_count": 32,
   "metadata": {},
   "outputs": [],
   "source": [
    "y=df_numerical['log_carb_monox']"
   ]
  },
  {
   "cell_type": "code",
   "execution_count": 33,
   "metadata": {},
   "outputs": [
    {
     "name": "stdout",
     "output_type": "stream",
     "text": [
      "(9800, 38) (4200, 38)\n"
     ]
    }
   ],
   "source": [
    "from sklearn.model_selection import train_test_split\n",
    "\n",
    "#SPLIT DATA INTO TRAIN AND TEST SET\n",
    "X_train, X_test, y_train, y_test = train_test_split(X, y, \n",
    "                                                    test_size =0.30, #by default is 75%-25%\n",
    "                                                    random_state= 123) #fix random seed for replicability\n",
    "\n",
    "print(X_train.shape, X_test.shape)"
   ]
  },
  {
   "cell_type": "markdown",
   "metadata": {},
   "source": [
    "## Models"
   ]
  },
  {
   "cell_type": "code",
   "execution_count": 44,
   "metadata": {},
   "outputs": [],
   "source": [
    "from sklearn.model_selection import GridSearchCV\n",
    "import numpy as np\n",
    "\n",
    "\n",
    "def gs_regression(model, par) :\n",
    "    gs = GridSearchCV(model, par,cv=3,scoring ='neg_mean_absolute_error') \n",
    "    gs = gs.fit(X_train,y_train)\n",
    "\n",
    "    #summarize the results of your GRIDSEARCH\n",
    "    print('***GRIDSEARCH RESULTS***')\n",
    "    print(\"Best score: %f using %s\" % (gs.best_score_, gs.best_params_))\n",
    "    means = gs.cv_results_['mean_test_score']\n",
    "    stds = gs.cv_results_['std_test_score']\n",
    "    params = gs.cv_results_['params']\n",
    "    #for mean, stdev, param in zip(means, stds, params):\n",
    "    #    print(\"%f (%f) with: %r\" % (mean, stdev, param))\n",
    "    \n",
    "    y_pred_train=gs.predict(X_train)\n",
    "    y_pred_test=gs.predict(X_test) \n",
    "        \n",
    "    from sklearn import metrics\n",
    "    print(\"-- LOG --\")\n",
    "    print(\"MAE  train %.3f    test %.3f\" % (metrics.mean_absolute_error(y_train, y_pred_train), metrics.mean_absolute_error(y_test, y_pred_test) ) )\n",
    "    print(\"MSE  train %.3f test %.3f\" % (metrics.mean_squared_error(y_train, y_pred_train), metrics.mean_squared_error(y_test, y_pred_test)) ) \n",
    "    print(\"RMSE train %.3f   test %.3f\" % (np.sqrt(metrics.mean_squared_error(y_train, y_pred_train)), np.sqrt(metrics.mean_squared_error(y_test, y_pred_test))) ) \n",
    "    print(\"r2   train %.3f     test %.3f\" % (metrics.r2_score(y_train, y_pred_train), metrics.r2_score(y_test, y_pred_test)) )\n",
    "    print(\"-- ORIGINAL SCALE -- \")\n",
    "    print(\"MAE  train %.3f    test %.3f\" % (metrics.mean_absolute_error(np.exp(y_train), np.exp(y_pred_train)), metrics.mean_absolute_error(np.exp(y_test), np.exp(y_pred_test)) ) )\n",
    "    print(\"MSE  train %.3f  test %.3f\" % (metrics.mean_squared_error(np.exp(y_train), np.exp(y_pred_train)), metrics.mean_squared_error(np.exp(y_test), np.exp(y_pred_test))) ) \n",
    "    print(\"RMSE train %.3f   test %.3f\" % (np.sqrt(metrics.mean_squared_error(np.exp(y_train), np.exp(y_pred_train))), np.sqrt(metrics.mean_squared_error(np.exp(y_test), np.exp(y_pred_test)))) ) \n",
    "    print(\"r2   train %.3f     test %.3f\" % (metrics.r2_score(np.exp(y_train), np.exp(y_pred_train)), metrics.r2_score(np.exp(y_test), np.exp(y_pred_test))) )"
   ]
  },
  {
   "cell_type": "code",
   "execution_count": 45,
   "metadata": {},
   "outputs": [
    {
     "name": "stdout",
     "output_type": "stream",
     "text": [
      "***GRIDSEARCH RESULTS***\n",
      "Best score: -0.279323 using {}\n",
      "-- LOG --\n",
      "MAE  train 0.278    test 0.283\n",
      "MSE  train 0.150 test 0.153\n",
      "RMSE train 0.387   test 0.391\n",
      "r2   train 0.763     test 0.763\n",
      "-- ORIGINAL SCALE -- \n",
      "MAE  train 326.247    test 330.266\n",
      "MSE  train 380187.977  test 393848.604\n",
      "RMSE train 616.594   test 627.574\n",
      "r2   train 0.721     test 0.722\n"
     ]
    }
   ],
   "source": [
    "from sklearn.linear_model import LinearRegression\n",
    "\n",
    "regressor = LinearRegression() \n",
    "parameters = {}\n",
    "\n",
    "gs_regression(regressor, parameters)"
   ]
  },
  {
   "cell_type": "code",
   "execution_count": 46,
   "metadata": {},
   "outputs": [
    {
     "name": "stdout",
     "output_type": "stream",
     "text": [
      "***GRIDSEARCH RESULTS***\n",
      "Best score: -0.279315 using {'alpha': 1, 'normalize': False}\n",
      "-- LOG --\n",
      "MAE  train 0.278    test 0.283\n",
      "MSE  train 0.150 test 0.153\n",
      "RMSE train 0.387   test 0.391\n",
      "r2   train 0.763     test 0.763\n",
      "-- ORIGINAL SCALE -- \n",
      "MAE  train 326.296    test 330.273\n",
      "MSE  train 380352.516  test 393878.915\n",
      "RMSE train 616.727   test 627.598\n",
      "r2   train 0.721     test 0.722\n"
     ]
    }
   ],
   "source": [
    "from sklearn.linear_model import Ridge\n",
    "\n",
    "regressor = Ridge()\n",
    "parameters = {\"alpha\": [0.001,0.01,0.1,1,10], \"normalize\": [True, False]}\n",
    "\n",
    "gs_regression(regressor, parameters)"
   ]
  },
  {
   "cell_type": "code",
   "execution_count": 47,
   "metadata": {},
   "outputs": [
    {
     "name": "stdout",
     "output_type": "stream",
     "text": [
      "***GRIDSEARCH RESULTS***\n",
      "Best score: -0.280299 using {'alpha': 0.001, 'normalize': False}\n",
      "-- LOG --\n",
      "MAE  train 0.280    test 0.283\n",
      "MSE  train 0.151 test 0.154\n",
      "RMSE train 0.389   test 0.392\n",
      "r2   train 0.760     test 0.761\n",
      "-- ORIGINAL SCALE -- \n",
      "MAE  train 328.558    test 331.441\n",
      "MSE  train 386000.903  test 393988.611\n",
      "RMSE train 621.290   test 627.685\n",
      "r2   train 0.717     test 0.722\n"
     ]
    }
   ],
   "source": [
    "from sklearn.linear_model import Lasso\n",
    "\n",
    "regressor = Lasso()\n",
    "parameters = {\"alpha\": [0.001,0.01,0.1,1,10], \"normalize\": [True, False]}\n",
    "\n",
    "gs_regression(regressor, parameters)"
   ]
  },
  {
   "cell_type": "code",
   "execution_count": 48,
   "metadata": {},
   "outputs": [
    {
     "name": "stdout",
     "output_type": "stream",
     "text": [
      "***GRIDSEARCH RESULTS***\n",
      "Best score: -0.264528 using {'n_neighbors': 20, 'p': 1}\n",
      "-- LOG --\n",
      "MAE  train 0.242    test 0.255\n",
      "MSE  train 0.114 test 0.124\n",
      "RMSE train 0.337   test 0.353\n",
      "r2   train 0.820     test 0.807\n",
      "-- ORIGINAL SCALE -- \n",
      "MAE  train 278.277    test 287.540\n",
      "MSE  train 280957.300  test 284072.196\n",
      "RMSE train 530.054   test 532.984\n",
      "r2   train 0.794     test 0.799\n"
     ]
    }
   ],
   "source": [
    "from sklearn.neighbors import KNeighborsRegressor\n",
    "\n",
    "regressor = KNeighborsRegressor()\n",
    "\n",
    "parameters = {'n_neighbors': np.arange(20,50,10),\n",
    "              'p': [1,2]\n",
    "            }\n",
    "\n",
    "gs_regression(regressor, parameters)"
   ]
  },
  {
   "cell_type": "code",
   "execution_count": 50,
   "metadata": {},
   "outputs": [
    {
     "name": "stdout",
     "output_type": "stream",
     "text": [
      "***GRIDSEARCH RESULTS***\n",
      "Best score: -0.297841 using {'max_depth': 7, 'min_samples_leaf': 5}\n",
      "-- LOG --\n",
      "MAE  train 0.265    test 0.293\n",
      "MSE  train 0.134 test 0.163\n",
      "RMSE train 0.366   test 0.404\n",
      "r2   train 0.788     test 0.747\n",
      "-- ORIGINAL SCALE -- \n",
      "MAE  train 302.543    test 336.628\n",
      "MSE  train 310275.692  test 385067.401\n",
      "RMSE train 557.024   test 620.538\n",
      "r2   train 0.773     test 0.728\n"
     ]
    }
   ],
   "source": [
    "from sklearn.tree import DecisionTreeRegressor \n",
    "\n",
    "regressor = DecisionTreeRegressor()\n",
    "parameters = {\"max_depth\": np.arange(1,8), \n",
    "              \"min_samples_leaf\": [5]}\n",
    "\n",
    "gs_regression(regressor, parameters)"
   ]
  },
  {
   "cell_type": "code",
   "execution_count": 51,
   "metadata": {},
   "outputs": [
    {
     "name": "stdout",
     "output_type": "stream",
     "text": [
      "***GRIDSEARCH RESULTS***\n",
      "Best score: -0.257639 using {'criterion': 'mse', 'min_samples_leaf': 10, 'n_estimators': 100, 'random_state': 42}\n",
      "-- LOG --\n",
      "MAE  train 0.197    test 0.254\n",
      "MSE  train 0.082 test 0.128\n",
      "RMSE train 0.287   test 0.358\n",
      "r2   train 0.870     test 0.801\n",
      "-- ORIGINAL SCALE -- \n",
      "MAE  train 226.511    test 287.929\n",
      "MSE  train 206333.166  test 288582.593\n",
      "RMSE train 454.239   test 537.199\n",
      "r2   train 0.849     test 0.796\n"
     ]
    }
   ],
   "source": [
    "from sklearn.ensemble import RandomForestRegressor \n",
    "\n",
    "regressor = RandomForestRegressor()\n",
    "parameters = {\"n_estimators\":[5,10,100], \"criterion\": ['mse'], \n",
    "              \"min_samples_leaf\": [10,30], \"random_state\" : [42]}\n",
    "\n",
    "gs_regression(regressor, parameters)"
   ]
  },
  {
   "cell_type": "code",
   "execution_count": null,
   "metadata": {},
   "outputs": [],
   "source": [
    "from sklearn.svm import SVR\n",
    "\n",
    "regressor = SVR()\n",
    "parameters = {'C': [0.1,10,1000],\n",
    "             'epsilon': [0.01,1],\n",
    "             'gamma':['auto'],\n",
    "             'kernel': ['linear','poly'],\n",
    "             'degree': [2,3]\n",
    "             }\n",
    "\n",
    "gs_regression(regressor, parameters)"
   ]
  },
  {
   "cell_type": "code",
   "execution_count": 178,
   "metadata": {},
   "outputs": [
    {
     "name": "stderr",
     "output_type": "stream",
     "text": [
      "/home/mausoto/anaconda3/lib/python3.7/site-packages/sklearn/neural_network/_multilayer_perceptron.py:571: ConvergenceWarning: Stochastic Optimizer: Maximum iterations (5000) reached and the optimization hasn't converged yet.\n",
      "  % self.max_iter, ConvergenceWarning)\n"
     ]
    },
    {
     "name": "stdout",
     "output_type": "stream",
     "text": [
      "***GRIDSEARCH RESULTS***\n",
      "Best score: -776.427899 using {'alpha': 0.01, 'batch_size': 20, 'hidden_layer_sizes': (10, 5), 'learning_rate': 'constant', 'max_iter': 5000, 'solver': 'sgd'}\n",
      "\n",
      "MAE  train 782.425    test 794.963\n",
      "MSE  train 1364124.458 test 1417020.070\n",
      "RMSE train 1167.957   test 1190.387\n",
      "r2   train -0.000     test -0.000\n"
     ]
    },
    {
     "name": "stderr",
     "output_type": "stream",
     "text": [
      "/home/mausoto/anaconda3/lib/python3.7/site-packages/sklearn/neural_network/_multilayer_perceptron.py:571: ConvergenceWarning: Stochastic Optimizer: Maximum iterations (5000) reached and the optimization hasn't converged yet.\n",
      "  % self.max_iter, ConvergenceWarning)\n"
     ]
    }
   ],
   "source": [
    "from sklearn.neural_network import MLPRegressor\n",
    "\n",
    "regressor = MLPRegressor(random_state=0)\n",
    "parameters = {'hidden_layer_sizes': [(10, 5), (20,10,5)],\n",
    "              'solver' : ['sgd'],\n",
    "              'batch_size': [20],\n",
    "              'learning_rate' : ['constant'],\n",
    "              'alpha':10.0 ** -np.arange(1, 3),\n",
    "              'max_iter':[10000]}\n",
    "\n",
    "gs_regression(regressor, parameters)"
   ]
  },
  {
   "cell_type": "code",
   "execution_count": 52,
   "metadata": {},
   "outputs": [
    {
     "name": "stdout",
     "output_type": "stream",
     "text": [
      "***GRIDSEARCH RESULTS***\n",
      "Best score: -0.322987 using {'learning_rate': 0.5, 'loss': 'linear', 'n_estimators': 10, 'random_state': 0}\n",
      "-- LOG --\n",
      "MAE  train 0.316    test 0.323\n",
      "MSE  train 0.177 test 0.184\n",
      "RMSE train 0.420   test 0.429\n",
      "r2   train 0.721     test 0.715\n",
      "-- ORIGINAL SCALE -- \n",
      "MAE  train 374.025    test 379.276\n",
      "MSE  train 484547.676  test 499191.785\n",
      "RMSE train 696.095   test 706.535\n",
      "r2   train 0.645     test 0.648\n"
     ]
    }
   ],
   "source": [
    "from sklearn.ensemble import AdaBoostRegressor\n",
    "\n",
    "regressor = AdaBoostRegressor() # base_estimator=DecisionTreeRegressor(max_depth=3)\n",
    "parameters = {\"n_estimators\":[5,10,100,300], \"learning_rate\":[0.001, 0.1,0.5,1,2], \n",
    "              \"loss\": ['linear', 'square'], \"random_state\" : [0]}\n",
    "\n",
    "gs_regression(regressor, parameters)"
   ]
  },
  {
   "cell_type": "code",
   "execution_count": 53,
   "metadata": {},
   "outputs": [
    {
     "name": "stdout",
     "output_type": "stream",
     "text": [
      "***GRIDSEARCH RESULTS***\n",
      "Best score: -0.261032 using {'learning_rate': 0.5, 'loss': 'ls', 'max_depth': 2, 'n_estimators': 150, 'random_state': 0}\n",
      "-- LOG --\n",
      "MAE  train 0.234    test 0.259\n",
      "MSE  train 0.105 test 0.130\n",
      "RMSE train 0.325   test 0.360\n",
      "r2   train 0.833     test 0.799\n",
      "-- ORIGINAL SCALE -- \n",
      "MAE  train 266.881    test 295.315\n",
      "MSE  train 242490.124  test 298032.495\n",
      "RMSE train 492.433   test 545.924\n",
      "r2   train 0.822     test 0.790\n"
     ]
    }
   ],
   "source": [
    "from sklearn.ensemble import GradientBoostingRegressor\n",
    "\n",
    "regressor = GradientBoostingRegressor() # base_estimator=DecisionTreeRegressor(max_depth=3)\n",
    "parameters = {\"n_estimators\":[5,150], \"learning_rate\":[0.1,0.5,1,2], \n",
    "              \"loss\": ['ls', 'lad'], \"random_state\" : [0] ,\n",
    "             \"max_depth\":[1,2]}\n",
    "\n",
    "gs_regression(regressor, parameters)"
   ]
  },
  {
   "cell_type": "code",
   "execution_count": null,
   "metadata": {},
   "outputs": [],
   "source": []
  },
  {
   "cell_type": "code",
   "execution_count": null,
   "metadata": {},
   "outputs": [],
   "source": []
  },
  {
   "cell_type": "code",
   "execution_count": null,
   "metadata": {},
   "outputs": [],
   "source": []
  }
 ],
 "metadata": {
  "kernelspec": {
   "display_name": "Python 3",
   "language": "python",
   "name": "python3"
  },
  "language_info": {
   "codemirror_mode": {
    "name": "ipython",
    "version": 3
   },
   "file_extension": ".py",
   "mimetype": "text/x-python",
   "name": "python",
   "nbconvert_exporter": "python",
   "pygments_lexer": "ipython3",
   "version": "3.7.6"
  }
 },
 "nbformat": 4,
 "nbformat_minor": 2
}
